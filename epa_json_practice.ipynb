{
 "cells": [
  {
   "cell_type": "code",
   "execution_count": 12,
   "id": "15630a73",
   "metadata": {},
   "outputs": [],
   "source": [
    "import requests\n",
    "import json\n",
    "\n",
    "url= 'https://data.epa.gov.tw/api/v1/aqx_p_432?format=json&limit=5&api_key=9be7b239-557b-4c10-9775-78cadfc555e9'\n",
    "\n",
    "my_headers={\n",
    "    'User-Agent': 'Mozilla/5.0 (Windows NT 10.0; Win64; x64) AppleWebKit/537.36 (KHTML, like Gecko) Chrome/94.0.4606.61 Safari/537.36'\n",
    "}\n",
    "\n",
    "\n"
   ]
  },
  {
   "cell_type": "code",
   "execution_count": 62,
   "id": "746275cf",
   "metadata": {},
   "outputs": [
    {
     "name": "stdout",
     "output_type": "stream",
     "text": [
      "input success\n",
      "{'sort': 'ImportDate desc', 'include_total': True, 'resource_id': '8ff027dc-2da2-42e8-85de-78ac3faf470e', 'fields': [{'info': {'notes': '', 'label': '測站名稱'}, 'type': 'text', 'id': 'SiteName'}, {'info': {'notes': '', 'label': '縣市'}, 'type': 'text', 'id': 'County'}, {'info': {'notes': '', 'label': '空氣品質指標'}, 'type': 'text', 'id': 'AQI'}, {'info': {'notes': '', 'label': '空氣污染指標物'}, 'type': 'text', 'id': 'Pollutant'}, {'info': {'notes': '', 'label': '狀態'}, 'type': 'text', 'id': 'Status'}, {'info': {'notes': '', 'label': '二氧化硫(ppb)'}, 'type': 'text', 'id': 'SO2'}, {'info': {'notes': '', 'label': '一氧化碳(ppm)'}, 'type': 'text', 'id': 'CO'}, {'info': {'notes': '', 'label': '一氧化碳8小時移動平均(ppm)'}, 'type': 'text', 'id': 'CO_8hr'}, {'info': {'notes': '', 'label': '臭氧(ppb)'}, 'type': 'text', 'id': 'O3'}, {'info': {'notes': '', 'label': '臭氧8小時移動平均(ppb)'}, 'type': 'text', 'id': 'O3_8hr'}, {'info': {'notes': '', 'label': '懸浮微粒(μg/m3)'}, 'type': 'text', 'id': 'PM10'}, {'info': {'notes': '', 'label': '細懸浮微粒(μg/m3)'}, 'type': 'text', 'id': 'PM2.5'}, {'info': {'notes': '', 'label': '二氧化氮(ppb)'}, 'type': 'text', 'id': 'NO2'}, {'info': {'notes': '', 'label': '氮氧化物(ppb)'}, 'type': 'text', 'id': 'NOx'}, {'info': {'notes': '', 'label': '一氧化氮(ppb)'}, 'type': 'text', 'id': 'NO'}, {'info': {'notes': '', 'label': '風速(m/sec)'}, 'type': 'text', 'id': 'WindSpeed'}, {'info': {'notes': '', 'label': '風向(degrees)'}, 'type': 'text', 'id': 'WindDirec'}, {'info': {'notes': '', 'label': '資料建置日期'}, 'type': 'text', 'id': 'PublishTime'}, {'info': {'notes': '', 'label': '細懸浮微粒移動平均值(μg/m3)'}, 'type': 'text', 'id': 'PM2.5_AVG'}, {'info': {'notes': '', 'label': '懸浮微粒移動平均值(μg/m3)'}, 'type': 'text', 'id': 'PM10_AVG'}, {'info': {'notes': '', 'label': '二氧化硫移動平均值(ppb)'}, 'type': 'text', 'id': 'SO2_AVG'}, {'info': {'notes': '', 'label': '經度'}, 'type': 'text', 'id': 'Longitude'}, {'info': {'notes': '', 'label': '緯度'}, 'type': 'text', 'id': 'Latitude'}, {'info': {'notes': '', 'label': '測站編號'}, 'type': 'text', 'id': 'SiteId'}], '__extras': {'api_key': '9be7b239-557b-4c10-9775-78cadfc555e9'}, 'records_format': 'objects', 'records': [{'SiteName': '汐止', 'County': '新北市', 'AQI': '29', 'Pollutant': '', 'Status': '良好', 'SO2': '1', 'CO': '0.17', 'CO_8hr': '0.2', 'O3': '29.9', 'O3_8hr': '31', 'PM10': '21', 'PM2.5': '9', 'NO2': '7.9', 'NOx': '10', 'NO': '2', 'WindSpeed': '2.5', 'WindDirec': '75', 'PublishTime': '2021/09/29 16:00:00', 'PM2.5_AVG': '9', 'PM10_AVG': '21', 'SO2_AVG': '2', 'Longitude': '121.6423', 'Latitude': '25.067131', 'SiteId': '2', 'ImportDate': '2021-09-29 17:00:05.630000'}, {'SiteName': '萬里', 'County': '新北市', 'AQI': '57', 'Pollutant': '懸浮微粒', 'Status': '普通', 'SO2': '0.5', 'CO': '0.16', 'CO_8hr': '0.1', 'O3': '44', 'O3_8hr': '41', 'PM10': '51', 'PM2.5': '14', 'NO2': '2', 'NOx': '2.9', 'NO': '0.9', 'WindSpeed': '3.3', 'WindDirec': '24', 'PublishTime': '2021/09/29 16:00:00', 'PM2.5_AVG': '11', 'PM10_AVG': '57', 'SO2_AVG': '0', 'Longitude': '121.689881', 'Latitude': '25.179667', 'SiteId': '3', 'ImportDate': '2021-09-29 17:00:05.630000'}, {'SiteName': '新店', 'County': '新北市', 'AQI': '58', 'Pollutant': '臭氧八小時', 'Status': '普通', 'SO2': '1.5', 'CO': '0.27', 'CO_8hr': '0.3', 'O3': '49.2', 'O3_8hr': '57', 'PM10': '27', 'PM2.5': '15', 'NO2': '10.9', 'NOx': '12.5', 'NO': '1.6', 'WindSpeed': '2.1', 'WindDirec': '48', 'PublishTime': '2021/09/29 16:00:00', 'PM2.5_AVG': '13', 'PM10_AVG': '25', 'SO2_AVG': '1', 'Longitude': '121.537778', 'Latitude': '24.977222', 'SiteId': '4', 'ImportDate': '2021-09-29 17:00:05.630000'}, {'SiteName': '土城', 'County': '新北市', 'AQI': '74', 'Pollutant': '臭氧八小時', 'Status': '普通', 'SO2': '0.9', 'CO': '0.23', 'CO_8hr': '0.3', 'O3': '58.4', 'O3_8hr': '62', 'PM10': '33', 'PM2.5': '8', 'NO2': '9', 'NOx': '10.1', 'NO': '1.1', 'WindSpeed': '2.7', 'WindDirec': '334', 'PublishTime': '2021/09/29 16:00:00', 'PM2.5_AVG': '13', 'PM10_AVG': '29', 'SO2_AVG': '1', 'Longitude': '121.451861', 'Latitude': '24.982528', 'SiteId': '5', 'ImportDate': '2021-09-29 17:00:05.630000'}, {'SiteName': '基隆', 'County': '基隆市', 'AQI': '33', 'Pollutant': '', 'Status': '良好', 'SO2': '0.8', 'CO': '0.18', 'CO_8hr': '0.2', 'O3': '38.8', 'O3_8hr': '34', 'PM10': '20', 'PM2.5': '9', 'NO2': '4.3', 'NOx': '5.5', 'NO': '1.2', 'WindSpeed': '0.9', 'WindDirec': '342', 'PublishTime': '2021/09/29 16:00:00', 'PM2.5_AVG': '10', 'PM10_AVG': '20', 'SO2_AVG': '0', 'Longitude': '121.760056', 'Latitude': '25.129167', 'SiteId': '1', 'ImportDate': '2021-09-29 17:00:05.630000'}], 'limit': 5, 'offset': 0, '_links': {'start': '/api/v1/aqx_p_432?api_key=9be7b239-557b-4c10-9775-78cadfc555e9&limit=5&format=json', 'next': '/api/v1/aqx_p_432?api_key=9be7b239-557b-4c10-9775-78cadfc555e9&limit=5&offset=5&format=json'}, 'distribution': [{'qcLevel': '/result/records'}], 'total': 84}\n"
     ]
    }
   ],
   "source": [
    "resp = requests.get(url, headers = my_headers)\n",
    "if resp.status_code==requests.codes.ok:\n",
    "    print('input success')\n",
    "\n",
    "obj = json.loads(resp.text)\n",
    "print(obj)\n"
   ]
  },
  {
   "cell_type": "code",
   "execution_count": 75,
   "id": "3ad22bf7",
   "metadata": {},
   "outputs": [
    {
     "name": "stdout",
     "output_type": "stream",
     "text": [
      "{'SiteName': '汐止', 'County': '新北市', 'AQI': '29', 'Pollutant': '', 'Status': '良好', 'SO2': '1', 'CO': '0.17', 'CO_8hr': '0.2', 'O3': '29.9', 'O3_8hr': '31', 'PM10': '21', 'PM2.5': '9', 'NO2': '7.9', 'NOx': '10', 'NO': '2', 'WindSpeed': '2.5', 'WindDirec': '75', 'PublishTime': '2021/09/29 16:00:00', 'PM2.5_AVG': '9', 'PM10_AVG': '21', 'SO2_AVG': '2', 'Longitude': '121.6423', 'Latitude': '25.067131', 'SiteId': '2', 'ImportDate': '2021-09-29 17:00:05.630000'}\n"
     ]
    }
   ],
   "source": [
    "print(obj['records'][0])"
   ]
  },
  {
   "cell_type": "code",
   "execution_count": 85,
   "id": "da97c1df",
   "metadata": {},
   "outputs": [
    {
     "name": "stdout",
     "output_type": "stream",
     "text": [
      "汐止 AQI= 29 ,time= 2021/09/29 16:00:00\n",
      "萬里 AQI= 57 ,time= 2021/09/29 16:00:00\n",
      "新店 AQI= 58 ,time= 2021/09/29 16:00:00\n",
      "土城 AQI= 74 ,time= 2021/09/29 16:00:00\n",
      "基隆 AQI= 33 ,time= 2021/09/29 16:00:00\n"
     ]
    }
   ],
   "source": [
    "for data  in (obj['records']):\n",
    "    print(data['SiteName'],'AQI=',data['AQI'],',time=',data['PublishTime'])"
   ]
  },
  {
   "cell_type": "code",
   "execution_count": null,
   "id": "17c978c9",
   "metadata": {},
   "outputs": [],
   "source": []
  }
 ],
 "metadata": {
  "kernelspec": {
   "display_name": "Python 3",
   "language": "python",
   "name": "python3"
  },
  "language_info": {
   "codemirror_mode": {
    "name": "ipython",
    "version": 3
   },
   "file_extension": ".py",
   "mimetype": "text/x-python",
   "name": "python",
   "nbconvert_exporter": "python",
   "pygments_lexer": "ipython3",
   "version": "3.8.8"
  }
 },
 "nbformat": 4,
 "nbformat_minor": 5
}
